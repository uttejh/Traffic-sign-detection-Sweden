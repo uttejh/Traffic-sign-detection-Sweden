{
 "cells": [
  {
   "cell_type": "code",
   "execution_count": null,
   "metadata": {},
   "outputs": [],
   "source": [
    "# Import dependencies\n",
    "import numpy as np\n",
    "import pandas as pd\n",
    "from PIL import Image\n",
    "%matplotlib inline\n",
    "from matplotlib import pyplot as plt"
   ]
  },
  {
   "cell_type": "code",
   "execution_count": null,
   "metadata": {},
   "outputs": [],
   "source": [
    "# Read training and testing data from csv files\n",
    "train_dataframe = pd.read_csv('../train.csv')\n",
    "test_dataframe = pd.read_csv('../test.csv')\n",
    "\n",
    "# Get all unique labels\n",
    "labels = train_dataframe.label.unique()\n",
    "print labels"
   ]
  },
  {
   "cell_type": "code",
   "execution_count": null,
   "metadata": {},
   "outputs": [],
   "source": []
  },
  {
   "cell_type": "code",
   "execution_count": null,
   "metadata": {},
   "outputs": [],
   "source": []
  },
  {
   "cell_type": "code",
   "execution_count": null,
   "metadata": {},
   "outputs": [],
   "source": [
    "from keras.applications.resnet50 import ResNet50\n",
    "\n",
    "# Read a base model which is pretrained on imagenet\n",
    "base_model = ResNet50(include_top=False, pooling='avg', weights='imagenet',input_shape=(32, 32, 3))"
   ]
  },
  {
   "cell_type": "code",
   "execution_count": null,
   "metadata": {},
   "outputs": [],
   "source": [
    "# Read image data\n",
    "from keras.preprocessing.image import ImageDataGenerator\n",
    "\n",
    "datagen=ImageDataGenerator(rescale=1./255)\n",
    "train_generator=datagen.flow_from_dataframe(dataframe=train_dataframe, directory=\"../data/\", x_col=\"file_name\", y_col=\"label\", class_mode=\"categorical\", target_size=(32,32), batch_size=32)"
   ]
  },
  {
   "cell_type": "code",
   "execution_count": null,
   "metadata": {},
   "outputs": [],
   "source": [
    "from keras.layers import Dense, Activation, Flatten, Dropout\n",
    "from keras.models import Sequential, Model\n",
    "\n",
    "# function build a model\n",
    "def finetune_model(base_model, dropout, fc_layers, num_classes):\n",
    "    for layer in base_model.layers:\n",
    "        layer.trainable = False\n",
    "\n",
    "    x = base_model.output\n",
    "    \n",
    "    # Flatten the layer to form FC layer\n",
    "    x = Flatten()(x)\n",
    "    for fc in fc_layers:\n",
    "        # create an FC layer to generate dropouts\n",
    "        x = Dense(fc, activation='relu')(x) \n",
    "        x = Dropout(dropout)(x)\n",
    "\n",
    "    # Ouput layer\n",
    "    predictions = Dense(num_classes, activation='softmax')(x) \n",
    "    \n",
    "    # Final model\n",
    "    finetune_model = Model(inputs=base_model.input, outputs=predictions)\n",
    "\n",
    "    return finetune_model\n",
    "\n",
    "# fully connected layer neurons\n",
    "fc_Layers = [1024, 1024]\n",
    "\n",
    "#dropout percentage\n",
    "dropout = 0.5\n",
    "\n",
    "# build a finetune model\n",
    "finetune_model = finetune_model(base_model, \n",
    "                                      dropout=dropout, \n",
    "                                      fc_layers=fc_Layers, \n",
    "                                      num_classes=len(labels))"
   ]
  },
  {
   "cell_type": "code",
   "execution_count": null,
   "metadata": {},
   "outputs": [],
   "source": [
    "from keras.optimizers import SGD, Adam\n",
    "from keras.callbacks import ModelCheckpoint\n",
    "\n",
    "NUM_EPOCHS = 50\n",
    "BATCH_SIZE = 32\n",
    "num_train_images = 2503\n",
    "\n",
    "# Compile the model with a learning rate and metrics\n",
    "finetune_model.compile(Adam(lr=0.00001), loss='categorical_crossentropy', metrics=['accuracy'])\n",
    "\n",
    "# path to save training weights\n",
    "filepath=\"ResNet50_model_one_weights.h5\"\n",
    "checkpoint = ModelCheckpoint(filepath, monitor=[\"acc\"], verbose=1, mode='max')\n",
    "callbacks_list = [checkpoint]\n",
    "\n",
    "# start training\n",
    "history = finetune_model.fit_generator(train_generator, epochs=NUM_EPOCHS, workers=8, \n",
    "                                       steps_per_epoch=num_train_images // BATCH_SIZE, \n",
    "                                       shuffle=True, callbacks=callbacks_list)"
   ]
  },
  {
   "cell_type": "code",
   "execution_count": null,
   "metadata": {},
   "outputs": [],
   "source": [
    "# plot a loss graph\n",
    "def loss_graph(data):\n",
    "    acc = data.history['acc']\n",
    "    loss = data.history['loss']\n",
    "    epochs = range(len(acc))\n",
    "\n",
    "    plt.plot(epochs, acc, 'r.')\n",
    "    plt.plot(epochs, loss, 'r')\n",
    "    plt.title('Training and Validation accuracy')\n",
    "    plt.figure()\n",
    "    plt.plot(epochs, loss, 'r.')\n",
    "    plt.title('Training and Validation loss')\n",
    "    plt.show()\n",
    "\n",
    "loss_graph(history)"
   ]
  },
  {
   "cell_type": "code",
   "execution_count": null,
   "metadata": {},
   "outputs": [],
   "source": []
  },
  {
   "cell_type": "code",
   "execution_count": null,
   "metadata": {},
   "outputs": [],
   "source": [
    "# load saved model\n",
    "from keras.models import load_model\n",
    "model = load_model('ResNet50_model_one_weights.h5')"
   ]
  },
  {
   "cell_type": "code",
   "execution_count": null,
   "metadata": {},
   "outputs": [],
   "source": []
  },
  {
   "cell_type": "code",
   "execution_count": null,
   "metadata": {},
   "outputs": [],
   "source": [
    "train_image_array = []\n",
    "train_labels = []\n",
    "numb=1\n",
    "\n",
    "# Data Augmentation\n",
    "for imgpath,label in zip(train_dataframe.file_name, train_dataframe.label):\n",
    "    \n",
    "    # read image\n",
    "    img = Image.open(\"/home/eteamcon/Downloads/sweden-traffic-signs-classification-eng/data/\"+imgpath)\n",
    "    \n",
    "    # resize image\n",
    "    img = (img.resize((224,224), Image.ANTIALIAS))\n",
    "    \n",
    "    # convert image to pixels\n",
    "    temp1 = np.asarray(img)/255\n",
    "    \n",
    "    \n",
    "    # flip images according to the label\n",
    "    if label == \"PEDESTRIAN_CROSSING\" or label == \"PASS_EITHER_SIDE\" or label == \"GIVE_WAY\":\n",
    "        img = img.transpose(Image.FLIP_LEFT_RIGHT)\n",
    "        temp2 = np.asarray(img).astype(np.float32)/255\n",
    "        train_image_array.append(temp2)\n",
    "        train_labels.append(label)\n",
    "    elif label == \"PRIORITY_ROAD\" or label == \"NO_STOPPING_NO_STANDING\":\n",
    "        img = img.rotate(90)\n",
    "        temp2 = np.asarray(img).astype(np.float32)/255\n",
    "        train_image_array.append(temp2)\n",
    "        train_labels.append(label)\n",
    "        \n",
    "        img = img.rotate(180)\n",
    "        temp2 = np.asarray(img).astype(np.float32)/255\n",
    "        train_image_array.append(temp2)\n",
    "        train_labels.append(label)\n",
    "        \n",
    "        img = img.rotate(270)\n",
    "        temp2 = np.asarray(img).astype(np.float32)/255\n",
    "        train_image_array.append(temp2)\n",
    "        train_labels.append(label)\n",
    "    elif label == \"30_SIGN\" or label == \"100_SIGN\" or label == \"110_SIGN\":\n",
    "        img = img.transpose(Image.FLIP_TOP_BOTTOM)\n",
    "        temp2 = np.asarray(img).astype(np.float32)/255\n",
    "        train_image_array.append(temp2)\n",
    "       \n",
    "        train_labels.append(label)\n",
    "    elif label == \"NO_PARKING\":\n",
    "        temp_img = img.transpose(Image.FLIP_LEFT_RIGHT)\n",
    "        img = temp_img.transpose(Image.FLIP_TOP_BOTTOM)\n",
    "        temp2 = np.asarray(img).astype(np.float32)/255\n",
    "        train_image_array.append(temp2)\n",
    "        train_labels.append(label)\n",
    "    \n",
    "\n",
    "print \"The shape of the new training dataset after Augmentation is \"+ str(np.shape(train_image_array))"
   ]
  },
  {
   "cell_type": "code",
   "execution_count": null,
   "metadata": {},
   "outputs": [],
   "source": [
    "# Encoding labels to train again on augmented data\n",
    "encoded_labels = pd.get_dummies(train_labels)\n",
    "encoded_labels.T.reindex(np.sort(labels)).T.fillna(0).astype(np.int32)"
   ]
  },
  {
   "cell_type": "code",
   "execution_count": null,
   "metadata": {},
   "outputs": [],
   "source": [
    "filepath=\"ResNet50_augmented_model.h5\"\n",
    "checkpoint = ModelCheckpoint(filepath, monitor=[\"acc\"], verbose=1, mode='max')\n",
    "callbacks_list = [checkpoint]\n",
    "\n",
    "# start training on augmented data\n",
    "model.fit(np.array(train_image_array), (encoded_labels),  batch_size=32, epochs=50, callbacks=callbacks_list)"
   ]
  },
  {
   "cell_type": "code",
   "execution_count": null,
   "metadata": {},
   "outputs": [],
   "source": [
    "from keras.preprocessing import image\n",
    "\n",
    "# predict class labels on test dataset\n",
    "class_list = np.sort(labels)\n",
    "ans=[]\n",
    "for i in range(len(test_dataframe.file_name)):\n",
    "    test_image = image.load_img(\"/home/eteamcon/Downloads/sweden-traffic-signs-classification-eng/data/\"+test_dataframe.file_name[i], target_size = (224, 224)) \n",
    "    test_image = image.img_to_array(test_image)\n",
    "    test_image = np.expand_dims(test_image/255, axis = 0)\n",
    "\n",
    "    val=model.predict(test_image)\n",
    "    ind = np.argmax(val[0])\n",
    "\n",
    "    ans.append(class_list[ind])\n",
    "    print i\n",
    "ans"
   ]
  },
  {
   "cell_type": "code",
   "execution_count": null,
   "metadata": {},
   "outputs": [],
   "source": [
    "# write prediction to a csv file\n",
    "test_dataframe = test_dataframe.assign(label=ans)\n",
    "test_dataframe.to_csv(\"answers.csv\", sep=',', index=False)\n",
    "test_dataframe"
   ]
  },
  {
   "cell_type": "markdown",
   "metadata": {},
   "source": [
    "# Predict on a single image\n",
    "\n",
    "To validate the model: run the following blocks seperately\n",
    "The following blocks will allow the user to load the trained model and display predictions on an image"
   ]
  },
  {
   "cell_type": "code",
   "execution_count": 11,
   "metadata": {},
   "outputs": [],
   "source": [
    "# load saved model\n",
    "from keras.models import load_model\n",
    "import numpy as np\n",
    "import pandas as pd\n",
    "model = load_model('ResNet50_augmented_model.h5')\n",
    "from keras.preprocessing import image\n",
    "%matplotlib inline\n",
    "from matplotlib import pyplot as plt\n",
    "from PIL import Image\n",
    "\n",
    "train_dataframe = pd.read_csv('train.csv')\n",
    "test_dataframe = pd.read_csv('test.csv')\n",
    "\n",
    "# Get all unique labels\n",
    "labels = train_dataframe.label.unique()"
   ]
  },
  {
   "cell_type": "code",
   "execution_count": 21,
   "metadata": {},
   "outputs": [
    {
     "data": {
      "image/png": "[encoded data removed]",
      "text/plain": [
       "<matplotlib.figure.Figure at 0x7fefe8cbb550>"
      ]
     },
     "metadata": {
      "needs_background": "light"
     },
     "output_type": "display_data"
    },
    {
     "name": "stdout",
     "output_type": "stream",
     "text": [
      "The predicted class label is: 110_SIGN\n"
     ]
    }
   ],
   "source": [
    "# choose image (i = 0 or 1 or ... 9)\n",
    "i=0\n",
    "\n",
    "test_image = image.load_img(\"data/\"+test_dataframe.file_name[i], target_size = (224, 224)) \n",
    "\n",
    "# display the image\n",
    "plt.figure()\n",
    "plt.imshow(test_image) \n",
    "plt.show()\n",
    "\n",
    "test_image = image.img_to_array(test_image)\n",
    "test_image = np.expand_dims(test_image/255, axis = 0)\n",
    "\n",
    "val=model.predict(test_image)\n",
    "ind = np.argmax(val[0])\n",
    "lab = np.sort(labels)[ind]\n",
    "print(\"The predicted class label is: \" + str(lab))\n",
    "\n"
   ]
  },
  {
   "cell_type": "code",
   "execution_count": null,
   "metadata": {},
   "outputs": [],
   "source": []
  }
 ],
 "metadata": {
  "kernelspec": {
   "display_name": "Python 2",
   "language": "python",
   "name": "python2"
  },
  "language_info": {
   "codemirror_mode": {
    "name": "ipython",
    "version": 2
   },
   "file_extension": ".py",
   "mimetype": "text/x-python",
   "name": "python",
   "nbconvert_exporter": "python",
   "pygments_lexer": "ipython2",
   "version": "2.7.16"
  }
 },
 "nbformat": 4,
 "nbformat_minor": 2
}
